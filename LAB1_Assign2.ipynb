{
 "cells": [
  {
   "cell_type": "code",
   "execution_count": 63,
   "metadata": {
    "collapsed": true
   },
   "outputs": [],
   "source": [
    "import tensorflow as tf\n",
    "import numpy\n",
    "import matplotlib.pyplot as plt"
   ]
  },
  {
   "cell_type": "code",
   "execution_count": 3,
   "metadata": {
    "collapsed": true
   },
   "outputs": [],
   "source": [
    "X = numpy.asarray([3.3,7.4,5.1,6.71,6.93])\n",
    "Y = numpy.asarray([1.7,2.26,2.09,1.19,1.694])\n",
    "n= X.shape[0]"
   ]
  },
  {
   "cell_type": "code",
   "execution_count": 53,
   "metadata": {},
   "outputs": [
    {
     "name": "stdout",
     "output_type": "stream",
     "text": [
      "5.888\n"
     ]
    }
   ],
   "source": [
    "s=0\n",
    "for x in X:\n",
    "    s= tf.add(x,s)\n",
    "\n",
    "mx=tf.divide(s,n)\n",
    "\n",
    "with tf.Session() as sess:\n",
    "    print(sess.run(mx))\n"
   ]
  },
  {
   "cell_type": "code",
   "execution_count": 5,
   "metadata": {},
   "outputs": [
    {
     "name": "stdout",
     "output_type": "stream",
     "text": [
      "1.7868\n"
     ]
    }
   ],
   "source": [
    "s=0\n",
    "for x in Y:\n",
    "    s= tf.add(x,s)  \n",
    "my=tf.divide(s,n)\n",
    "\n",
    "with tf.Session() as sess:\n",
    "    print(sess.run(my))\n",
    "\n"
   ]
  },
  {
   "cell_type": "code",
   "execution_count": 41,
   "metadata": {},
   "outputs": [
    {
     "name": "stdout",
     "output_type": "stream",
     "text": [
      "2.273256\n"
     ]
    }
   ],
   "source": [
    "varx=0\n",
    "for x in X:\n",
    "    k = tf.subtract(x,mx)\n",
    "    l = tf.multiply(k,k)\n",
    "    varx = tf.add(l,varx)    \n",
    "with tf.Session() as sess:\n",
    "    print(sess.run(varx/n))\n"
   ]
  },
  {
   "cell_type": "code",
   "execution_count": 59,
   "metadata": {},
   "outputs": [
    {
     "name": "stdout",
     "output_type": "stream",
     "text": [
      "0.113928\n"
     ]
    }
   ],
   "source": [
    "covar = 0\n",
    "for (m,n) in zip(X,Y):\n",
    "    x = tf.subtract(m,mx)\n",
    "    y = tf.subtract(n,my)\n",
    "    xy = tf.multiply(x,y)\n",
    "    covar = tf.add(xy,covar)\n",
    "\n",
    "with tf.Session() as sess:\n",
    "    print(sess.run(covar))\n"
   ]
  },
  {
   "cell_type": "code",
   "execution_count": 60,
   "metadata": {},
   "outputs": [
    {
     "name": "stdout",
     "output_type": "stream",
     "text": [
      "0.010023332172\n"
     ]
    }
   ],
   "source": [
    "m = covar/varx\n",
    "with tf.Session() as sess:\n",
    "    print(sess.run(m))"
   ]
  },
  {
   "cell_type": "code",
   "execution_count": 61,
   "metadata": {},
   "outputs": [
    {
     "name": "stdout",
     "output_type": "stream",
     "text": [
      "1.72778262017\n"
     ]
    }
   ],
   "source": [
    "p = tf.multiply(m,mx)\n",
    "c = tf.subtract(my,p)\n",
    "with tf.Session() as sess:\n",
    "    print(sess.run(c))"
   ]
  },
  {
   "cell_type": "code",
   "execution_count": 100,
   "metadata": {},
   "outputs": [
    {
     "data": {
      "image/png": "[encoded data removed]",
      "text/plain": [
       "<matplotlib.figure.Figure at 0x7faa2861a470>"
      ]
     },
     "metadata": {},
     "output_type": "display_data"
    }
   ],
   "source": [
    "plt.plot(X, Y, 'ro', label='Real data')\n",
    "plt.plot(X, fit[0] * X + fit[1], color='black',label='Fitted Data')\n",
    "plt.legend()\n",
    "plt.show()"
   ]
  },
  {
   "cell_type": "code",
   "execution_count": 101,
   "metadata": {},
   "outputs": [
    {
     "name": "stdout",
     "output_type": "stream",
     "text": [
      "0.450312387246\n"
     ]
    }
   ],
   "source": [
    "z = tf.add(tf.multiply(X, m), c)\n",
    "e = tf.sqrt(tf.reduce_sum(tf.pow(z-Y, 2))/(2*n))\n",
    "with tf.Session() as sess:\n",
    "    print(sess.run(e))"
   ]
  },
  {
   "cell_type": "code",
   "execution_count": null,
   "metadata": {
    "collapsed": true
   },
   "outputs": [],
   "source": []
  },
  {
   "cell_type": "code",
   "execution_count": null,
   "metadata": {
    "collapsed": true
   },
   "outputs": [],
   "source": []
  }
 ],
 "metadata": {
  "kernelspec": {
   "display_name": "Python 3",
   "language": "python",
   "name": "python3"
  },
  "language_info": {
   "codemirror_mode": {
    "name": "ipython",
    "version": 3
   },
   "file_extension": ".py",
   "mimetype": "text/x-python",
   "name": "python",
   "nbconvert_exporter": "python",
   "pygments_lexer": "ipython3",
   "version": "3.6.1"
  }
 },
 "nbformat": 4,
 "nbformat_minor": 2
}
