{
 "cells": [
  {
   "cell_type": "code",
   "execution_count": 2,
   "metadata": {},
   "outputs": [
    {
     "name": "stdout",
     "output_type": "stream",
     "text": [
      "1\n"
     ]
    }
   ],
   "source": [
    "import tensorflow as tf\n",
    "x = tf.constant(2)\n",
    "y = tf.constant(3)\n",
    "\n",
    "with tf.name_scope(\"Identity1\"):\n",
    "\n",
    "    with tf.name_scope(\"Squaring_x\"):\n",
    "        a = tf.multiply(x, x,)\n",
    "    with tf.name_scope(\"Squaring_y\"):\n",
    "        b = tf.multiply(y, y)\n",
    "    with tf.name_scope(\"Addition\"):\n",
    "        c = tf.add(a, b,)\n",
    "\n",
    "    with tf.name_scope(\"2xy\"):\n",
    "        d = tf.multiply(x, y,)\n",
    "        e = tf.multiply(2, d,)\n",
    "    \n",
    "    with tf.name_scope(\"Subtraction\"):\n",
    "        f = tf.subtract(c, e,)\n",
    "\n",
    "with tf.Session() as sess:\n",
    "    writer = tf.summary.FileWriter(\"/tmp/tboard/output1\", sess.graph)\n",
    "    print(sess.run(f))\n",
    "    writer.close()"
   ]
  },
  {
   "cell_type": "code",
   "execution_count": 1,
   "metadata": {},
   "outputs": [
    {
     "name": "stdout",
     "output_type": "stream",
     "text": [
      "16\n"
     ]
    }
   ],
   "source": [
    "import tensorflow as tf\n",
    "x = tf.constant(2)\n",
    "y = tf.constant(3)\n",
    "z = tf.constant(1)\n",
    "with tf.name_scope(\"Identity2\"):\n",
    "\n",
    "    with tf.name_scope(\"Squaring_x\"):\n",
    "        a = tf.multiply(x, x,)\n",
    "    with tf.name_scope(\"Squaring_y\"):\n",
    "        b = tf.multiply(y, y)\n",
    "    with tf.name_scope(\"Squaring_z\"):\n",
    "        g = tf.multiply(z, z)\n",
    "    with tf.name_scope(\"Adding_Squares\"):\n",
    "        c = tf.add(a, b,)\n",
    "        q = tf.add(c,g,)\n",
    "\n",
    "    with tf.name_scope(\"2xy\"):    \n",
    "        d = tf.multiply(x, y,)\n",
    "        e = tf.multiply(2, d,)\n",
    "    with tf.name_scope(\"2yz\"):    \n",
    "        h = tf.multiply(y, z,)\n",
    "        i = tf.multiply(2, h,)\n",
    "    with tf.name_scope(\"2xz\"):    \n",
    "        j = tf.multiply(x, z,)\n",
    "        k = tf.multiply(2, j,)\n",
    "        \n",
    "    with tf.name_scope(\"2xy-2yz-2xz\"):    \n",
    "    \n",
    "        p = tf.add(q,e,)\n",
    "        f = tf.add(k, i,)\n",
    "        s = tf.subtract(i, k,)\n",
    "        \n",
    "        t = tf.subtract(p,f,)\n",
    "\n",
    "with tf.Session() as sess:\n",
    "    writer = tf.summary.FileWriter(\"/tmp/tboard/output2new\", sess.graph)\n",
    "    print(sess.run(t))\n",
    "    writer.close()"
   ]
  },
  {
   "cell_type": "code",
   "execution_count": null,
   "metadata": {
    "collapsed": true
   },
   "outputs": [],
   "source": []
  }
 ],
 "metadata": {
  "kernelspec": {
   "display_name": "Python 3",
   "language": "python",
   "name": "python3"
  },
  "language_info": {
   "codemirror_mode": {
    "name": "ipython",
    "version": 3
   },
   "file_extension": ".py",
   "mimetype": "text/x-python",
   "name": "python",
   "nbconvert_exporter": "python",
   "pygments_lexer": "ipython3",
   "version": "3.6.1"
  }
 },
 "nbformat": 4,
 "nbformat_minor": 2
}
