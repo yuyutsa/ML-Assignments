{
 "cells": [
  {
   "cell_type": "code",
   "execution_count": 15,
   "metadata": {},
   "outputs": [
    {
     "name": "stdout",
     "output_type": "stream",
     "text": [
      "1\n"
     ]
    }
   ],
   "source": [
    "import tensorflow as tf\n",
    "with tf.name_scope(\"Identity\"):\n",
    "   \n",
    "    x = tf.constant(2)\n",
    "    y = tf.constant(3)\n",
    "    with tf.name_scope(\"a\"):\n",
    "        a = tf.multiply(x, x,name=\"Squaring_constant_x\")\n",
    "    with tf.name_scope(\"b\"):\n",
    "        b = tf.multiply(y, y,name=\"Squaring_constant_y\")\n",
    "    with tf.name_scope(\"c\"):\n",
    "        d = tf.multiply(x, y,name=\"product_of_xy\")\n",
    "        e = tf.multiply(2, d,name=\"twice_of_the_product\")\n",
    "\n",
    "    c = tf.add(a, b,)\n",
    "    f = tf.subtract(c, e,)\n",
    "\n",
    "with tf.Session() as sess:\n",
    "    writer1 = tf.summary.FileWriter(\"/tmp/tboard1/out2\", sess.graph)\n",
    "    print(sess.run(f))\n",
    "    writer1.close()"
   ]
  },
  {
   "cell_type": "code",
   "execution_count": 6,
   "metadata": {},
   "outputs": [
    {
     "name": "stdout",
     "output_type": "stream",
     "text": [
      "16\n"
     ]
    }
   ],
   "source": [
    "import tensorflow as tf\n",
    "x = tf.constant(2)\n",
    "y = tf.constant(3)\n",
    "z = tf.constant(1)\n",
    "a = tf.multiply(x, x,)\n",
    "b = tf.multiply(y, y)\n",
    "g = tf.multiply(z, z)\n",
    "c = tf.add(a, b,)\n",
    "q = tf.add(c,g,)\n",
    "\n",
    "d = tf.multiply(x, y,)\n",
    "e = tf.multiply(2, d,)\n",
    "\n",
    "h = tf.multiply(y, z,)\n",
    "i = tf.multiply(2, h,)\n",
    "\n",
    "j = tf.multiply(x, z,)\n",
    "k = tf.multiply(2, j,)\n",
    "\n",
    "p = tf.add(q,e,)\n",
    "\n",
    "f = tf.add(k, i,)\n",
    "s = tf.subtract(i, k,)\n",
    "\n",
    "t = tf.subtract(p,f,)\n",
    "\n",
    "with tf.Session() as sess:\n",
    "    writer = tf.summary.FileWriter(\"/tmp/tboard/output2new\", sess.graph)\n",
    "    print(sess.run(t))\n",
    "    writer.close()"
   ]
  },
  {
   "cell_type": "code",
   "execution_count": null,
   "metadata": {
    "collapsed": true
   },
   "outputs": [],
   "source": []
  }
 ],
 "metadata": {
  "kernelspec": {
   "display_name": "Python 3",
   "language": "python",
   "name": "python3"
  },
  "language_info": {
   "codemirror_mode": {
    "name": "ipython",
    "version": 3
   },
   "file_extension": ".py",
   "mimetype": "text/x-python",
   "name": "python",
   "nbconvert_exporter": "python",
   "pygments_lexer": "ipython3",
   "version": "3.6.1"
  }
 },
 "nbformat": 4,
 "nbformat_minor": 2
}
